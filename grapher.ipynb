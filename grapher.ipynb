{
 "cells": [
  {
   "cell_type": "code",
   "execution_count": 1,
   "metadata": {},
   "outputs": [],
   "source": [
    "import viz\n",
    "import tensorflow as tf\n",
    "import numpy as np\n",
    "import matplotlib as plt"
   ]
  },
  {
   "cell_type": "code",
   "execution_count": 2,
   "metadata": {},
   "outputs": [],
   "source": [
    "MODEL = 'jehm'\n",
    "DATASET = 'wine'\n",
    "ID = '1616682373'"
   ]
  },
  {
   "cell_type": "code",
   "execution_count": 3,
   "metadata": {},
   "outputs": [
    {
     "name": "stderr",
     "output_type": "stream",
     "text": [
      "usage: ipykernel_launcher.py [-h]\n",
      "ipykernel_launcher.py: error: unrecognized arguments: -f /afs/cs.unc.edu/home/jjgarcia/.local/share/jupyter/runtime/kernel-3669661e-126f-466f-8b2d-2170d6f4a0bc.json\n"
     ]
    },
    {
     "ename": "SystemExit",
     "evalue": "2",
     "output_type": "error",
     "traceback": [
      "An exception has occurred, use %tb to see the full traceback.\n",
      "\u001b[0;31mSystemExit\u001b[0m\u001b[0;31m:\u001b[0m 2\n"
     ]
    },
    {
     "name": "stderr",
     "output_type": "stream",
     "text": [
      "/playpen/venv/vm/lib/python3.6/site-packages/IPython/core/interactiveshell.py:3339: UserWarning: To exit: use 'exit', 'quit', or Ctrl-D.\n",
      "  warn(\"To exit: use 'exit', 'quit', or Ctrl-D.\", stacklevel=1)\n"
     ]
    }
   ],
   "source": [
    "url = viz.get_model_url(MODEL, DATASET, ID)\n",
    "args = viz.load_args(url)\n",
    "#x_train, x_val, x_test, y_train, y_val, y_test, ood_x, ood_y = viz.load_data(args)"
   ]
  },
  {
   "cell_type": "code",
   "execution_count": 33,
   "metadata": {},
   "outputs": [
    {
     "name": "stdout",
     "output_type": "stream",
     "text": [
      "F:False\n",
      "F:False\n",
      "F:False\n"
     ]
    },
    {
     "data": {
      "text/plain": [
       "Namespace(JEM=False, alpha=0.4, batch_size=16, dataset='wine', epochs=10, ld_lr=0.2, ld_n=20, ld_std=0.01, local_random='true', manifold_mixup=False, mixup_scheme='none', model='jehm', monitor='val_accuracy', n_channels=1, n_neighbors=20, n_test=1000, n_train=10000, n_warmup=5, od_l=0.01, od_lr=0.2, od_n=25, od_std=0.1, ood=False, out_of_class='false', shuffle='true', test_noise=0.1, train_noise=0.1, train_test_ratio='0.9)')"
      ]
     },
     "execution_count": 33,
     "metadata": {},
     "output_type": "execute_result"
    }
   ],
   "source": [
    "def isfloat(x):\n",
    "    try:\n",
    "        a = float(x)\n",
    "    except (TypeError, ValueError):\n",
    "        return False\n",
    "    else:\n",
    "        return True\n",
    "\n",
    "def isint(x):\n",
    "    try:\n",
    "        a = float(x)\n",
    "        b = int(a)\n",
    "    except (TypeError, ValueError):\n",
    "        return False\n",
    "    else:\n",
    "        return a == b\n",
    "\n",
    "import os\n",
    "args_url = os.path.join(url, 'args.txt')\n",
    "if os.path.exists(args_url):\n",
    "    with open(args_url, 'r') as f:\n",
    "        ns = f.read()\n",
    "args = {}\n",
    "for arg in ns[10:].split(','):\n",
    "    arg = arg.split('=')\n",
    "    arg[1] = arg[1].strip('\\'')\n",
    "    v = arg[1]\n",
    "    if(arg[1]=='True'):\n",
    "        v=True\n",
    "        print('T:'+arg[1])\n",
    "    if(arg[1]=='False'):\n",
    "        print('F:'+arg[1])\n",
    "        v=False\n",
    "    if(isfloat(arg[1])):\n",
    "        v=float(arg[1])\n",
    "    if(isint(arg[1])):\n",
    "        v=int(arg[1])\n",
    "    args[arg[0].strip()]=v\n",
    "    \n",
    "from argparse import Namespace\n",
    "ns = Namespace(**args)\n",
    "ns"
   ]
  },
  {
   "cell_type": "code",
   "execution_count": 21,
   "metadata": {},
   "outputs": [
    {
     "data": {
      "text/plain": [
       "Namespace(JEM=False, **{' alpha': 0.4, ' batch_size': 16.0, ' dataset': 16.0, ' epochs': 10.0, ' ld_lr': 0.2, ' ld_n': 20.0, ' ld_std': 0.01, ' local_random': 0.01, ' manifold_mixup': False, ' mixup_scheme': False, ' model': False, ' monitor': False, ' n_channels': 1.0, ' n_neighbors': 20.0, ' n_test': 1000.0, ' n_train': 10000.0, ' n_warmup': 5.0, ' od_l': 0.01, ' od_lr': 0.2, ' od_n': 25.0, ' od_std': 0.1, ' ood': False, ' out_of_class': False, ' shuffle': False, ' test_noise': 0.1, ' train_noise': 0.1, ' train_test_ratio': 0.1})"
      ]
     },
     "execution_count": 21,
     "metadata": {},
     "output_type": "execute_result"
    }
   ],
   "source": [
    "ns"
   ]
  },
  {
   "cell_type": "code",
   "execution_count": null,
   "metadata": {},
   "outputs": [],
   "source": []
  }
 ],
 "metadata": {
  "kernelspec": {
   "display_name": "Python 3",
   "language": "python",
   "name": "python3"
  },
  "language_info": {
   "codemirror_mode": {
    "name": "ipython",
    "version": 3
   },
   "file_extension": ".py",
   "mimetype": "text/x-python",
   "name": "python",
   "nbconvert_exporter": "python",
   "pygments_lexer": "ipython3",
   "version": "3.6.10"
  }
 },
 "nbformat": 4,
 "nbformat_minor": 4
}
